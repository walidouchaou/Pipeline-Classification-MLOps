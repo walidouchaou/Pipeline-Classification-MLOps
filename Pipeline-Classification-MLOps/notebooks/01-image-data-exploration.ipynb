{
 "cells": [
  {
   "cell_type": "raw",
   "metadata": {
    "vscode": {
     "languageId": "raw"
    }
   },
   "source": [
    "# Phase 1: Image Classification - Data Exploration and Model Training\n",
    "\n",
    "Ce notebook présente la première phase de notre projet de classification d'images. Nous allons :\n",
    "\n",
    "1. **Explorer le dataset** : Analyser la structure et le contenu du jeu de données\n",
    "2. **Visualiser les données** : Afficher des échantillons d'images de chaque classe\n",
    "3. **Prétraiter les données** : Appliquer la normalisation et l'augmentation de données\n",
    "4. **Entraîner le modèle** : Utiliser ResNet50 avec transfer learning\n",
    "5. **Évaluer les performances** : Calculer les métriques et visualiser les résultats\n"
   ]
  },
  {
   "cell_type": "code",
   "execution_count": null,
   "metadata": {},
   "outputs": [],
   "source": [
    "# Import des bibliothèques nécessaires\n",
    "import sys\n",
    "import os\n",
    "sys.path.append('../src')\n",
    "\n",
    "import tensorflow as tf\n",
    "import matplotlib.pyplot as plt\n",
    "import seaborn as sns\n",
    "import numpy as np\n",
    "from pathlib import Path\n",
    "\n",
    "# Import de nos modules personnalisés\n",
    "from data_utils import DataManager\n",
    "from model_architecture import ImageClassifierBuilder, create_data_augmentation_layer, create_preprocessing_layer\n",
    "\n",
    "print(f\"TensorFlow version: {tf.__version__}\")\n",
    "print(f\"GPU Available: {tf.config.list_physical_devices('GPU')}\")\n",
    "\n",
    "# Configuration pour les graphiques\n",
    "plt.style.use('seaborn-v0_8')\n",
    "sns.set_palette(\"husl\")\n"
   ]
  },
  {
   "cell_type": "raw",
   "metadata": {
    "vscode": {
     "languageId": "raw"
    }
   },
   "source": [
    "## 1. Initialisation du DataManager et téléchargement des données\n",
    "\n",
    "Le `DataManager` gère automatiquement le téléchargement et la préparation des données depuis Kaggle.\n"
   ]
  },
  {
   "cell_type": "code",
   "execution_count": null,
   "metadata": {},
   "outputs": [],
   "source": [
    "# Initialisation du DataManager\n",
    "data_manager = DataManager(data_dir=\"../data\")\n",
    "\n",
    "# Vérification et téléchargement du dataset si nécessaire\n",
    "if not data_manager.verify_dataset_structure():\n",
    "    print(\"Dataset non trouvé. Tentative de téléchargement...\")\n",
    "    success = data_manager.download_dataset()\n",
    "    if not success:\n",
    "        print(\"⚠️ Échec du téléchargement automatique.\")\n",
    "        print(\"Veuillez télécharger manuellement le dataset depuis:\")\n",
    "        print(\"https://www.kaggle.com/datasets/anthonytherrien/image-classification-dataset-32-classes\")\n",
    "        print(\"Et l'extraire dans le dossier '../data/raw/'\")\n",
    "else:\n",
    "    print(\"✅ Dataset trouvé et vérifié!\")\n",
    "\n",
    "# Obtenir les informations sur le dataset\n",
    "dataset_info = data_manager.get_dataset_info()\n",
    "print(f\"\\n📊 Informations sur le dataset:\")\n",
    "print(f\"Nombre de classes: {dataset_info['num_classes']}\")\n",
    "print(f\"Nombre total d'images: {dataset_info['total_images']}\")\n",
    "print(f\"Classes: {dataset_info['class_names'][:10]}...\")  # Afficher les 10 premières classes\n"
   ]
  }
 ],
 "metadata": {
  "language_info": {
   "name": "python"
  }
 },
 "nbformat": 4,
 "nbformat_minor": 2
}
